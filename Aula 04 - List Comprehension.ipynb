{
 "cells": [
  {
   "cell_type": "markdown",
   "metadata": {},
   "source": [
    "# 1. Crie uma lista com os números de 1 a 10 usando compreensão de lista."
   ]
  },
  {
   "cell_type": "code",
   "execution_count": null,
   "metadata": {},
   "outputs": [],
   "source": [
    "lista1 = [numero for numero in range(1, 11)]"
   ]
  },
  {
   "cell_type": "markdown",
   "metadata": {},
   "source": [
    "# 2. Crie uma lista com os números ímpares de 1 a 50."
   ]
  },
  {
   "cell_type": "code",
   "execution_count": null,
   "metadata": {},
   "outputs": [],
   "source": [
    "lista2 = [numero for numero in range(1, 51) if numero % 2 != 0]"
   ]
  },
  {
   "cell_type": "markdown",
   "metadata": {},
   "source": [
    "# 3. Crie uma lista com as letras maiúsculas de uma string qualquer"
   ]
  },
  {
   "cell_type": "code",
   "execution_count": null,
   "metadata": {},
   "outputs": [],
   "source": [
    "string_qualquer = \"Exemplo de String\"\n",
    "lista3 = [letra for letra in string_qualquer if letra.isupper()]"
   ]
  },
  {
   "cell_type": "markdown",
   "metadata": {},
   "source": [
    "# 4. Crie uma lista com o comprimento de cada palavra em uma string."
   ]
  },
  {
   "cell_type": "code",
   "execution_count": null,
   "metadata": {},
   "outputs": [],
   "source": [
    "string_exemplo = \"Esta é uma frase de exemplo\"\n",
    "lista4 = [len(palavra) for palavra in string_exemplo.split()]"
   ]
  },
  {
   "cell_type": "markdown",
   "metadata": {},
   "source": [
    "# 5. Crie uma lista com os números divisíveis por 3 e 5 de 1 a 30."
   ]
  },
  {
   "cell_type": "code",
   "execution_count": null,
   "metadata": {},
   "outputs": [],
   "source": [
    "lista5 = [numero for numero in range(1, 31) if numero % 3 == 0 and numero % 5 == 0]"
   ]
  },
  {
   "cell_type": "markdown",
   "metadata": {},
   "source": [
    "# 6. Crie uma lista com as palavras de uma string que tenham mais de 3 letras."
   ]
  },
  {
   "cell_type": "code",
   "execution_count": null,
   "metadata": {},
   "outputs": [],
   "source": [
    "string_com_palavras = \"Esta é uma frase com palavras\"\n",
    "lista6 = [palavra for palavra in string_com_palavras.split() if len(palavra) > 3]"
   ]
  },
  {
   "cell_type": "markdown",
   "metadata": {},
   "source": [
    "# 7. Crie uma lista com os números primos de 1 a 20."
   ]
  },
  {
   "cell_type": "code",
   "execution_count": null,
   "metadata": {},
   "outputs": [],
   "source": [
    "def eh_primo(numero):\n",
    "    if numero <= 1:\n",
    "        return False\n",
    "    for i in range(2, int(numero**0.5) + 1):\n",
    "        if numero % i == 0:\n",
    "            return False\n",
    "    return True\n",
    "\n",
    "lista7 = [numero for numero in range(1, 21) if eh_primo(numero)]"
   ]
  },
  {
   "cell_type": "markdown",
   "metadata": {},
   "source": [
    "# 8. Crie uma lista com as datas de todos os dias de janeiro em um ano bissexto."
   ]
  },
  {
   "cell_type": "code",
   "execution_count": null,
   "metadata": {},
   "outputs": [],
   "source": [
    "ano_bissexto = 2024\n",
    "lista8 = [f\"01/{dia:02}/{ano_bissexto}\" for dia in range(1, 32)]"
   ]
  },
  {
   "cell_type": "markdown",
   "metadata": {},
   "source": [
    "# 9. Crie uma lista de strings com os primeiros 10 nomes da lista de nomes."
   ]
  },
  {
   "cell_type": "code",
   "execution_count": null,
   "metadata": {},
   "outputs": [],
   "source": [
    "lista_de_nomes = [\"Ana\", \"João\", \"Maria\", \"Pedro\", \"Carlos\", \"Lúcia\", \"Marta\", \"Rui\", \"Sofia\", \"Luís\", \"Laura\"]\n",
    "lista9 = lista_de_nomes[:10]"
   ]
  },
  {
   "cell_type": "markdown",
   "metadata": {},
   "source": [
    "# 10. Crie uma lista de strings com os nomes dos primeiros 10 nomes da lista de nomes, mas com as primeiras letras maiúsculas."
   ]
  },
  {
   "cell_type": "code",
   "execution_count": null,
   "metadata": {},
   "outputs": [],
   "source": [
    "lista10 = [nome.capitalize() for nome in lista9]"
   ]
  },
  {
   "cell_type": "markdown",
   "metadata": {},
   "source": [
    "# 11. Crie uma lista de strings com os nomes dos primeiros 10 nomes da lista de nomes, mas sem as vogais."
   ]
  },
  {
   "cell_type": "code",
   "execution_count": null,
   "metadata": {},
   "outputs": [],
   "source": [
    "def remove_vogais(nome):\n",
    "    return ''.join(letra for letra in nome if letra.lower() not in 'aeiou')\n",
    "\n",
    "lista11 = [remove_vogais(nome) for nome in lista9]"
   ]
  },
  {
   "cell_type": "markdown",
   "metadata": {},
   "source": [
    "# 12. Concatenar elementos de sub-listas em uma única lista"
   ]
  },
  {
   "cell_type": "code",
   "execution_count": null,
   "metadata": {},
   "outputs": [],
   "source": [
    "sub_listas = [[1, 2, 3], [4, 5], [6, 7, 8]]\n",
    "lista12 = [elemento for sub_lista in sub_listas for elemento in sub_lista]\n"
   ]
  },
  {
   "cell_type": "markdown",
   "metadata": {},
   "source": [
    "# 13. Criar um dicionário a partir de duas listas"
   ]
  },
  {
   "cell_type": "code",
   "execution_count": null,
   "metadata": {},
   "outputs": [],
   "source": [
    "chaves = [\"a\", \"b\", \"c\"]\n",
    "valores = [1, 2, 3]\n",
    "dicionario13 = dict(zip(chaves, valores))"
   ]
  }
 ],
 "metadata": {
  "language_info": {
   "name": "python"
  }
 },
 "nbformat": 4,
 "nbformat_minor": 2
}
