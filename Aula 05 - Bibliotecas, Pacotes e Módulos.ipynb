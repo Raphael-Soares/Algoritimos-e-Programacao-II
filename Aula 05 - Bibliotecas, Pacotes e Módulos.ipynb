{
 "cells": [
  {
   "cell_type": "markdown",
   "metadata": {},
   "source": [
    "# 1. Importe o módulo math e calcule a raiz quadrada de um número inteiro."
   ]
  },
  {
   "cell_type": "code",
   "execution_count": null,
   "metadata": {},
   "outputs": [],
   "source": [
    "import math\n",
    "numero = 16\n",
    "raiz_quadrada = math.sqrt(numero)\n",
    "print(\"Raiz quadrada de\", numero, \"é\", raiz_quadrada)"
   ]
  },
  {
   "cell_type": "markdown",
   "metadata": {},
   "source": [
    "# 2. Importe o módulo datetime e exiba a data e hora atuais."
   ]
  },
  {
   "cell_type": "code",
   "execution_count": null,
   "metadata": {},
   "outputs": [],
   "source": [
    "import datetime\n",
    "data_hora_atual = datetime.datetime.now()\n",
    "print(\"Data e hora atuais:\", data_hora_atual)"
   ]
  },
  {
   "cell_type": "markdown",
   "metadata": {},
   "source": [
    "# 3. Use o módulo string para verificar se uma string contém apenas dígitos."
   ]
  },
  {
   "cell_type": "code",
   "execution_count": null,
   "metadata": {},
   "outputs": [],
   "source": [
    "import string\n",
    "texto = \"12345\"\n",
    "if texto.isdigit():\n",
    "    print(\"A string contém apenas dígitos.\")\n",
    "else:\n",
    "    print(\"A string não contém apenas dígitos.\")"
   ]
  },
  {
   "cell_type": "markdown",
   "metadata": {},
   "source": [
    "# 4. Importe o módulo random e gere um número aleatório entre 1 e 100."
   ]
  },
  {
   "cell_type": "code",
   "execution_count": null,
   "metadata": {},
   "outputs": [],
   "source": [
    "import random\n",
    "numero_aleatorio = random.randint(1, 100)\n",
    "print(\"Número aleatório entre 1 e 100:\", numero_aleatorio)"
   ]
  },
  {
   "cell_type": "markdown",
   "metadata": {},
   "source": [
    "# 5. Importe a biblioteca numpy e crie uma array com os números de 1 a 10."
   ]
  },
  {
   "cell_type": "code",
   "execution_count": null,
   "metadata": {},
   "outputs": [],
   "source": [
    "import numpy as np\n",
    "array = np.array([1, 2, 3, 4, 5, 6, 7, 8, 9, 10])\n",
    "print(\"Array:\", array)"
   ]
  },
  {
   "cell_type": "markdown",
   "metadata": {},
   "source": [
    "# 6. Escreva um programa que importe o pacote numpy e crie uma matriz de zeros com dimensões 3x3."
   ]
  },
  {
   "cell_type": "code",
   "execution_count": null,
   "metadata": {},
   "outputs": [],
   "source": [
    "matriz_zeros = np.zeros((3, 3))\n",
    "print(\"Matriz de zeros 3x3:\\n\", matriz_zeros)"
   ]
  },
  {
   "cell_type": "markdown",
   "metadata": {},
   "source": [
    "# 7. Importe a biblioteca matplotlib e crie um gráfico de barras simples com alguns dados fictícios."
   ]
  },
  {
   "cell_type": "code",
   "execution_count": null,
   "metadata": {},
   "outputs": [],
   "source": [
    "import matplotlib.pyplot as plt\n",
    "dados = [10, 20, 30, 40, 50]\n",
    "plt.bar(range(len(dados)), dados)\n",
    "plt.show()"
   ]
  },
  {
   "cell_type": "markdown",
   "metadata": {},
   "source": [
    "\n",
    "# 8. Escreva um programa que importe o pacote matplotlib e plote a função seno."
   ]
  },
  {
   "cell_type": "code",
   "execution_count": null,
   "metadata": {},
   "outputs": [],
   "source": [
    "import matplotlib.pyplot as plt\n",
    "import numpy as np\n",
    "\n",
    "x = np.linspace(0, 2 * np.pi, 100)\n",
    "y = np.sin(x)\n",
    "\n",
    "plt.plot(x, y)\n",
    "plt.xlabel(\"Ângulo (radianos)\")\n",
    "plt.ylabel(\"Seno do Ângulo\")\n",
    "plt.title(\"Gráfico da Função Seno\")\n",
    "plt.show()"
   ]
  },
  {
   "cell_type": "markdown",
   "metadata": {},
   "source": [
    "# 9. Importe o pacote requests e faça uma requisição HTTP para um URL e exiba o código de status."
   ]
  },
  {
   "cell_type": "code",
   "execution_count": null,
   "metadata": {},
   "outputs": [],
   "source": [
    "import requests\n",
    "url = 'https://github.com/Raphael-Soares'\n",
    "response = requests.get(url)\n",
    "print(\"Código de status da requisição:\", response.status_code)"
   ]
  },
  {
   "cell_type": "markdown",
   "metadata": {},
   "source": [
    "# 10. Importe a biblioteca pandas, leia um arquivo CSV (por exemplo, \"dados.csv\") e exiba as primeiras linhas do DataFrame."
   ]
  },
  {
   "cell_type": "code",
   "execution_count": null,
   "metadata": {},
   "outputs": [],
   "source": [
    "import pandas as pd\n",
    "df = pd.read_csv('dataset.csv')\n",
    "print(\"Primeiras linhas do DataFrame:\")\n",
    "print(df.head())"
   ]
  },
  {
   "cell_type": "markdown",
   "metadata": {},
   "source": [
    "# 11. Escreva um programa que importe o módulo os e imprima o diretório de trabalho atual."
   ]
  },
  {
   "cell_type": "code",
   "execution_count": null,
   "metadata": {},
   "outputs": [],
   "source": [
    "import os\n",
    "diretorio_atual = os.getcwd()\n",
    "print(\"Diretório de trabalho atual:\", diretorio_atual)"
   ]
  },
  {
   "cell_type": "markdown",
   "metadata": {},
   "source": [
    "# 12. Escreva um programa que importe o pacote beautifulsoup4 e faça a raspagem de dados (web crawling) de uma página HTML."
   ]
  },
  {
   "cell_type": "code",
   "execution_count": null,
   "metadata": {},
   "outputs": [],
   "source": [
    "from bs4 import BeautifulSoup\n",
    "import requests\n",
    "\n",
    "url = 'https://github.com/Raphael-Soares'\n",
    "response = requests.get(url)\n",
    "soup = BeautifulSoup(response.text, 'html.parser')"
   ]
  },
  {
   "cell_type": "markdown",
   "metadata": {},
   "source": [
    "# 13. Crie um módulo personalizado chamado de calculadora com uma função que some dois números. Em seguida, importe e use essa função."
   ]
  },
  {
   "cell_type": "code",
   "execution_count": 1,
   "metadata": {},
   "outputs": [
    {
     "name": "stdout",
     "output_type": "stream",
     "text": [
      "Resultado da soma: 8\n"
     ]
    }
   ],
   "source": [
    "# Programa principal\n",
    "from calculadora import somar\n",
    "\n",
    "resultado = somar(5, 3)\n",
    "print(\"Resultado da soma:\", resultado)"
   ]
  },
  {
   "cell_type": "markdown",
   "metadata": {},
   "source": [
    "# 14. Suponha que estamos desenvolvendo um jogo. Uma possível organização de pacotes e módulos poderia ser mostrada na figura abaixo."
   ]
  },
  {
   "cell_type": "markdown",
   "metadata": {},
   "source": [
    "## a) Importar o módulo start"
   ]
  },
  {
   "cell_type": "code",
   "execution_count": null,
   "metadata": {},
   "outputs": [],
   "source": [
    "from game.level import start\n",
    "\n"
   ]
  },
  {
   "cell_type": "markdown",
   "metadata": {},
   "source": [
    "## b) Suponha que este módulo (i.e. start), contém uma função chamada\n",
    "select_dificulty(). Qual o comando para importá-lo?"
   ]
  },
  {
   "cell_type": "code",
   "execution_count": null,
   "metadata": {},
   "outputs": [],
   "source": [
    "start.select_dificulty()"
   ]
  },
  {
   "cell_type": "markdown",
   "metadata": {},
   "source": [
    "## c) Importe o módulo change sem usar o prefixo do pacote"
   ]
  },
  {
   "cell_type": "code",
   "execution_count": null,
   "metadata": {},
   "outputs": [],
   "source": [
    "from game.image import change"
   ]
  },
  {
   "cell_type": "markdown",
   "metadata": {},
   "source": [
    "## d) Agora escreva o comando para importar o módulo play"
   ]
  },
  {
   "cell_type": "code",
   "execution_count": null,
   "metadata": {},
   "outputs": [],
   "source": [
    "from game.sound import play"
   ]
  }
 ],
 "metadata": {
  "kernelspec": {
   "display_name": "Python 3",
   "language": "python",
   "name": "python3"
  },
  "language_info": {
   "codemirror_mode": {
    "name": "ipython",
    "version": 3
   },
   "file_extension": ".py",
   "mimetype": "text/x-python",
   "name": "python",
   "nbconvert_exporter": "python",
   "pygments_lexer": "ipython3",
   "version": "3.10.12"
  }
 },
 "nbformat": 4,
 "nbformat_minor": 2
}
