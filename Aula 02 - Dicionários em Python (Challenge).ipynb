{
 "cells": [
  {
   "cell_type": "markdown",
   "metadata": {},
   "source": [
    "1. Mesclar Dicionários\n",
    "Combine dois dicionários, substituindo valores comuns pela soma dos valores\n",
    "correspondentes."
   ]
  },
  {
   "cell_type": "code",
   "execution_count": 6,
   "metadata": {},
   "outputs": [
    {
     "name": "stdout",
     "output_type": "stream",
     "text": [
      "{'a': 7, 'b': 9, 'c': 3, 'd': 4, 'h': 8, 'i': 9}\n"
     ]
    }
   ],
   "source": [
    "dict1 = {\n",
    "    \"a\":1,\n",
    "    \"b\":2,\n",
    "    \"c\":3,\n",
    "    \"d\":4,\n",
    "}\n",
    "\n",
    "\n",
    "dict2 = {\n",
    "    \"a\":6,\n",
    "    \"b\":7,\n",
    "    \"h\":8,\n",
    "    \"i\":9\n",
    "}\n",
    "\n",
    "\n",
    "\n",
    "\n",
    "def junta_dict(dict_a, dict_b):\n",
    "\n",
    "    dict_c = {}\n",
    "\n",
    "    for key, value in dict_a.items():\n",
    "        if key in dict_b.keys():\n",
    "            dict_c[key] = value + dict_b[key]\n",
    "            \n",
    "        else:\n",
    "            dict_c[key] = value\n",
    "        \n",
    "\n",
    "    for key, value in dict_b.items():\n",
    "        if key not in dict_a.keys():\n",
    "            dict_c[key] = value\n",
    "\n",
    "    return dict_c\n",
    "\n",
    "print(junta_dict(dict1, dict2))"
   ]
  },
  {
   "cell_type": "markdown",
   "metadata": {},
   "source": [
    "2. Maior Valor em Dicionário de Dicionários\n",
    "Encontre a chave e valor com o maior valor em um dicionário de dicionários."
   ]
  },
  {
   "cell_type": "code",
   "execution_count": 9,
   "metadata": {},
   "outputs": [
    {
     "data": {
      "text/plain": [
       "('c', 38)"
      ]
     },
     "execution_count": 9,
     "metadata": {},
     "output_type": "execute_result"
    }
   ],
   "source": [
    "dict = {\n",
    "    'a':1,\n",
    "    'b':2,\n",
    "    'c':38,\n",
    "    'd':4,\n",
    "    'e':5\n",
    "}\n",
    "\n",
    "\n",
    "\n",
    "def maior_valor(dict):\n",
    "    \n",
    "    for key,value in dict.items():\n",
    "        if value == max(dict.values()):\n",
    "            return key, value\n",
    "        \n",
    "\n",
    "maior_valor(dict)\n"
   ]
  },
  {
   "cell_type": "markdown",
   "metadata": {},
   "source": [
    "3. Palavras Únicas por Chave\n",
    "Dado um dicionário de listas, encontre as palavras que são únicas para cada\n",
    "chave."
   ]
  },
  {
   "cell_type": "code",
   "execution_count": 11,
   "metadata": {},
   "outputs": [
    {
     "data": {
      "text/plain": [
       "{'ação', 'comédia', 'drama', 'romance', 'terror'}"
      ]
     },
     "execution_count": 11,
     "metadata": {},
     "output_type": "execute_result"
    }
   ],
   "source": [
    "dict = {\n",
    "    \"a\": [\"terror\", \"ação\", \"comédia\"],\n",
    "    \"b\": [\"romance\", \"drama\", \"ação\"],\n",
    "    \"c\": [\"comédia\", \"romance\", \"drama\"]\n",
    "    \n",
    "}\n",
    "\n",
    "\n",
    "\n",
    "def palavra_unica(dict):\n",
    "    lista = []\n",
    "    for item in dict.values():\n",
    "        for palavra in item:\n",
    "            lista.append(palavra)\n",
    "    return set(lista)\n",
    "\n",
    "palavra_unica(dict)\n"
   ]
  },
  {
   "cell_type": "markdown",
   "metadata": {},
   "source": [
    "4. Aninhamento de Chaves\n",
    "Crie um dicionário aninhado com níveis de chaves fornecidos em uma lista."
   ]
  },
  {
   "cell_type": "code",
   "execution_count": 12,
   "metadata": {},
   "outputs": [
    {
     "data": {
      "text/plain": [
       "{'nome': 'Guido van Rossum',\n",
       " 'linguagem': 'Python',\n",
       " 'similar': ['c', 'Modula-3', 'lisp'],\n",
       " 'users': 1000000}"
      ]
     },
     "execution_count": 12,
     "metadata": {},
     "output_type": "execute_result"
    }
   ],
   "source": [
    "dict = {\n",
    "    'nome': 'Guido van Rossum',\n",
    "    'linguagem': 'Python',\n",
    "    'similar': ['c', 'Modula-3', 'lisp'],\n",
    "    'users': 1000000\n",
    "    \n",
    "}\n",
    "\n",
    "\n",
    "dict"
   ]
  },
  {
   "cell_type": "markdown",
   "metadata": {},
   "source": [
    "5. Dicionário Circular\n",
    "Crie um dicionário em que a última chave aponte para a primeira chave."
   ]
  },
  {
   "cell_type": "code",
   "execution_count": 29,
   "metadata": {},
   "outputs": [
    {
     "name": "stdout",
     "output_type": "stream",
     "text": [
      "{'a': 1, 'b': 2, 'c': 3, 'd': 1}\n"
     ]
    }
   ],
   "source": [
    "\n",
    "dict = {'a': 1, 'b': 2, 'c': 3}\n",
    "\n",
    "dict['d'] = dict['a']\n",
    "\n",
    "print(dict)\n",
    "\n"
   ]
  },
  {
   "cell_type": "markdown",
   "metadata": {},
   "source": [
    "6. Compressão de Dicionário\n",
    "Comprima um dicionário removendo chaves com valores menores que um\n",
    "determinado limite."
   ]
  },
  {
   "cell_type": "code",
   "execution_count": 31,
   "metadata": {},
   "outputs": [
    {
     "data": {
      "text/plain": [
       "{3: 'c', 4: 'd', 5: 'e'}"
      ]
     },
     "execution_count": 31,
     "metadata": {},
     "output_type": "execute_result"
    }
   ],
   "source": [
    "dict = {\n",
    "    1: 'a',\n",
    "    2: 'b',\n",
    "    3: 'c',\n",
    "    4: 'd',\n",
    "    5: 'e'\n",
    "}\n",
    "\n",
    "\n",
    "\n",
    "\n",
    "def limita_dict(dict, limite):\n",
    "    dict = dict.copy()\n",
    "    for key in list(dict.keys()):\n",
    "        if key < limite:\n",
    "            del dict[key]\n",
    "    return dict\n",
    "\n",
    "limita_dict(dict, 3)"
   ]
  },
  {
   "cell_type": "markdown",
   "metadata": {},
   "source": [
    "7. Frequência de Palavras em Texto\n",
    "Conte a frequência de cada palavra em um texto usando um dicionário."
   ]
  },
  {
   "cell_type": "code",
   "execution_count": 35,
   "metadata": {},
   "outputs": [
    {
     "data": {
      "text/plain": [
       "{'Lorem': 4,\n",
       " 'Ipsum': 3,\n",
       " 'is': 1,\n",
       " 'simply': 1,\n",
       " 'dummy': 2,\n",
       " 'text': 2,\n",
       " 'of': 4,\n",
       " 'the': 6,\n",
       " 'printing': 1,\n",
       " 'and': 3,\n",
       " 'typesetting': 1,\n",
       " 'industry.': 1,\n",
       " 'has': 2,\n",
       " 'been': 1,\n",
       " \"industry's\": 1,\n",
       " 'standard': 1,\n",
       " 'ever': 1,\n",
       " 'since': 1,\n",
       " '1500s,': 1,\n",
       " 'when': 1,\n",
       " 'an': 1,\n",
       " 'unknown': 1,\n",
       " 'printer': 1,\n",
       " 'took': 1,\n",
       " 'a': 2,\n",
       " 'galley': 1,\n",
       " 'type': 2,\n",
       " 'scrambled': 1,\n",
       " 'it': 1,\n",
       " 'to': 1,\n",
       " 'make': 1,\n",
       " 'specimen': 1,\n",
       " 'book.': 1,\n",
       " 'It': 2,\n",
       " 'survived': 1,\n",
       " 'not': 1,\n",
       " 'only': 1,\n",
       " 'five': 1,\n",
       " 'centuries,': 1,\n",
       " 'but': 1,\n",
       " 'also': 1,\n",
       " 'leap': 1,\n",
       " 'into': 1,\n",
       " 'electronic': 1,\n",
       " 'typesetting,': 1,\n",
       " 'remaining': 1,\n",
       " 'essentially': 1,\n",
       " 'unchanged.': 1,\n",
       " 'was': 1,\n",
       " 'popularised': 1,\n",
       " 'in': 1,\n",
       " '1960s': 1,\n",
       " 'with': 2,\n",
       " 'release': 1,\n",
       " 'Letraset': 1,\n",
       " 'sheets': 1,\n",
       " 'containing': 1,\n",
       " 'passages,': 1,\n",
       " 'more': 1,\n",
       " 'recently': 1,\n",
       " 'desktop': 1,\n",
       " 'publishing': 1,\n",
       " 'software': 1,\n",
       " 'like': 1,\n",
       " 'Aldus': 1,\n",
       " 'PageMaker': 1,\n",
       " 'including': 1,\n",
       " 'versions': 1,\n",
       " 'Ipsum.': 1}"
      ]
     },
     "execution_count": 35,
     "metadata": {},
     "output_type": "execute_result"
    }
   ],
   "source": [
    "texto = \" Lorem Ipsum is simply dummy text of the printing and typesetting industry. Lorem Ipsum has been the industry's standard dummy text ever since the 1500s, when an unknown printer took a galley of type and scrambled it to make a type specimen book. It has survived not only five centuries, but also the leap into electronic typesetting, remaining essentially unchanged. It was popularised in the 1960s with the release of Letraset sheets containing Lorem Ipsum passages, and more recently with desktop publishing software like Aldus PageMaker including versions of Lorem Ipsum.\"\n",
    "\n",
    "\n",
    "def conta_palavras(texto):\n",
    "    palavras = texto.split()\n",
    "    resultado = {}\n",
    "    for palavra in palavras:\n",
    "        resultado[palavra] = palavras.count(palavra)\n",
    "    return resultado\n",
    "\n",
    "conta_palavras(texto)"
   ]
  },
  {
   "cell_type": "markdown",
   "metadata": {},
   "source": [
    "8. Ordenação de Dicionário por Valor\n",
    "Ordene um dicionário com base nos valores, em ordem decrescente."
   ]
  },
  {
   "cell_type": "code",
   "execution_count": 50,
   "metadata": {},
   "outputs": [
    {
     "name": "stdout",
     "output_type": "stream",
     "text": [
      "{'b': 82, 'd': 30, 'c': 15, 'a': 3}\n"
     ]
    }
   ],
   "source": [
    "dicionario = { \"a\":3, \"b\":82, \"c\":15, \"d\":30 }\n",
    "\n",
    "\n",
    "def ordena_dict(dicionario):\n",
    "    sorted_list =  sorted(dicionario.items(), key=lambda x: x[1], reverse=True)\n",
    "    sorted_dict = {k: v for k, v in sorted_list}\n",
    "    \n",
    "    return sorted_dict\n",
    "\n",
    "\n",
    "print(ordena_dict(dicionario))\n",
    "    \n",
    "\n",
    "\n"
   ]
  },
  {
   "cell_type": "markdown",
   "metadata": {},
   "source": [
    "9. Dicionário de Matrizes\n",
    "Crie um dicionário de matrizes, onde as chaves são coordenadas e os valores são\n",
    "os elementos correspondentes."
   ]
  },
  {
   "cell_type": "code",
   "execution_count": null,
   "metadata": {},
   "outputs": [],
   "source": [
    "matriz = {\n",
    "    'A': [1, 2, 3],\n",
    "    'B': [4, 5, 6],\n",
    "    'C': [7, 8, 9]\n",
    "}"
   ]
  },
  {
   "cell_type": "markdown",
   "metadata": {},
   "source": [
    "10. Mapeamento de Palavras\n",
    "Crie um dicionário que mapeie palavras em um texto para palavras diferentes com\n",
    "base em um dicionário de substituição."
   ]
  },
  {
   "cell_type": "code",
   "execution_count": 55,
   "metadata": {},
   "outputs": [
    {
     "data": {
      "text/plain": [
       "'DEPOIS O TEXTO ERA MAIOR'"
      ]
     },
     "execution_count": 55,
     "metadata": {},
     "output_type": "execute_result"
    }
   ],
   "source": [
    "dicionario_substituicao = {\n",
    "    \"antes\": \"depois\",\n",
    "    \"menor\" : \"maior\"\n",
    "}\n",
    "\n",
    "\n",
    "\n",
    "texto  = \"Antes o texto era menor\"\n",
    "\n",
    "\n",
    "\n",
    "def substitui_texto(texto, dict):\n",
    "    \n",
    "    \n",
    "    texto = texto.lower()\n",
    "    for key in dict.keys():\n",
    "        texto = texto.replace(key, dict[key])\n",
    "    return texto.upper()\n",
    "substitui_texto(texto, dicionario_substituicao)"
   ]
  }
 ],
 "metadata": {
  "kernelspec": {
   "display_name": "Python 3",
   "language": "python",
   "name": "python3"
  },
  "language_info": {
   "codemirror_mode": {
    "name": "ipython",
    "version": 3
   },
   "file_extension": ".py",
   "mimetype": "text/x-python",
   "name": "python",
   "nbconvert_exporter": "python",
   "pygments_lexer": "ipython3",
   "version": "3.10.12"
  },
  "orig_nbformat": 4
 },
 "nbformat": 4,
 "nbformat_minor": 2
}
