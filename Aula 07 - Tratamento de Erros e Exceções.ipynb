{
 "cells": [
  {
   "cell_type": "markdown",
   "metadata": {},
   "source": [
    "#### 1. Escreva uma função que recebe dois números como argumentos e retorna a divisão do primeiro pelo segundo. Use um bloco try/except para tratar o caso em que o segundo número é zero e lance uma exceção personalizada com a mensagem \"Divisão por zero não permitida\"."
   ]
  },
  {
   "cell_type": "code",
   "execution_count": null,
   "metadata": {},
   "outputs": [],
   "source": [
    "def dividir_numeros(a, b):\n",
    "    try:\n",
    "        resultado = a / b\n",
    "        return resultado\n",
    "    except ZeroDivisionError:\n",
    "        raise Exception(\"Divisão por zero não permitida\")\n",
    "\n"
   ]
  },
  {
   "cell_type": "markdown",
   "metadata": {},
   "source": [
    "#### 2. Escreva um programa que solicita ao usuário uma data no formato \"dd/mm/aaaa\" e verifica se ela é válida. Use um bloco `try/except` para tratar o caso em que o usuário digita uma data inválida e lance uma exceção personalizada com a mensagem “Data inválida”."
   ]
  },
  {
   "cell_type": "code",
   "execution_count": null,
   "metadata": {},
   "outputs": [],
   "source": [
    "\n",
    "import datetime\n",
    "\n",
    "def validar_data(data):\n",
    "    try:\n",
    "        # Converte a string de data para um objeto datetime\n",
    "        data_obj = datetime.datetime.strptime(data, '%d/%m/%Y')\n",
    "        return True\n",
    "    except ValueError:\n",
    "        raise Exception(\"Data inválida\")\n",
    "\n"
   ]
  },
  {
   "cell_type": "markdown",
   "metadata": {},
   "source": [
    "#### 3. Escreva uma função que recebe uma lista de números como argumento e retorna a soma dos elementos da lista. Use um bloco `try/except` para tratar o caso em que a lista contém algum elemento que não é um número e lance uma exceção personalizada com a mensagem “Lista inválida”."
   ]
  },
  {
   "cell_type": "code",
   "execution_count": null,
   "metadata": {},
   "outputs": [],
   "source": [
    "def somar_lista(lista):\n",
    "    try:\n",
    "        soma = sum(lista)\n",
    "        return soma\n",
    "    except TypeError:\n",
    "        raise Exception(\"Lista inválida\")\n"
   ]
  },
  {
   "cell_type": "markdown",
   "metadata": {},
   "source": [
    "#### 4. Escreva um programa que solicita ao usuário um nome de arquivo e tenta abri-lo para leitura. Use um bloco `try/except` para tratar o caso em que o arquivo não existe ou não pode ser aberto e lance uma exceção personalizada com a mensagem “Arquivo inválido”."
   ]
  },
  {
   "cell_type": "code",
   "execution_count": null,
   "metadata": {},
   "outputs": [],
   "source": [
    "def ler_arquivo(nome_arquivo):\n",
    "    try:\n",
    "        with open(nome_arquivo, 'r') as arquivo:\n",
    "            conteudo = arquivo.read()\n",
    "            return conteudo\n",
    "    except FileNotFoundError:\n",
    "        raise Exception(\"Arquivo inválido\")\n",
    "\n",
    "\n"
   ]
  },
  {
   "cell_type": "markdown",
   "metadata": {},
   "source": [
    "# 5. Escreva um código que tente abrir um arquivo com o modo de escrita, porém o arquivo já existe. Se ocorrer uma exceção, imprima uma mensagem de erro."
   ]
  },
  {
   "cell_type": "code",
   "execution_count": null,
   "metadata": {},
   "outputs": [],
   "source": [
    "def escrever_arquivo(nome_arquivo, conteudo):\n",
    "    try:\n",
    "        with open(nome_arquivo, 'x') as arquivo:\n",
    "            arquivo.write(conteudo)\n",
    "    except FileExistsError:\n",
    "        print(\"Erro: Arquivo já existe\")\n",
    "\n"
   ]
  },
  {
   "cell_type": "markdown",
   "metadata": {},
   "source": [
    "# 6. Escreva uma função que recebe um número inteiro positivo como argumento e retorna o fatorial desse número. Use um bloco `try/except` para tratar o caso em que o argumento é negativo ou não é um inteiro e lance uma exceção personalizada com a mensagem “Argumento inválido”."
   ]
  },
  {
   "cell_type": "code",
   "execution_count": null,
   "metadata": {},
   "outputs": [],
   "source": [
    "def calcular_fatorial(numero):\n",
    "    try:\n",
    "        if not isinstance(numero, int) or numero < 0:\n",
    "            raise Exception(\"Argumento inválido\")\n",
    "        \n",
    "        resultado = 1\n",
    "        for i in range(1, numero + 1):\n",
    "            resultado *= i\n",
    "        return resultado\n",
    "    except Exception as e:\n",
    "        print(e)\n",
    "\n",
    "\n"
   ]
  },
  {
   "cell_type": "markdown",
   "metadata": {},
   "source": [
    "# 7. Escreva uma função que recebe uma string como argumento e retorna o número de vogais contidas nessa string. Use um bloco `try/except` para tratar o caso em que o argumento não é uma string e lance uma exceção personalizada com a mensagem “Argumento inválido”."
   ]
  },
  {
   "cell_type": "code",
   "execution_count": null,
   "metadata": {},
   "outputs": [],
   "source": [
    "def contar_vogais(string):\n",
    "    try:\n",
    "        if not isinstance(string, str):\n",
    "            raise Exception(\"Argumento inválido\")\n",
    "        \n",
    "        vogais = \"aeiouAEIOU\"\n",
    "        contador = sum(1 for char in string if char in vogais)\n",
    "        return contador\n",
    "    except Exception as e:\n",
    "        print(e)\n",
    "\n",
    "    \n",
    "\n",
    "\n",
    "    "
   ]
  },
  {
   "cell_type": "markdown",
   "metadata": {},
   "source": [
    "# 8. Escreva uma função que recebe uma lista de strings como argumento e retorna uma nova lista com estas strings ordenadas alfabeticamente. Use um bloco `try/except` para tratar o caso em que a lista contém algum elemento que não é uma string e lance uma exceção personalizada com a mensagem “Lista inválida”."
   ]
  },
  {
   "cell_type": "code",
   "execution_count": null,
   "metadata": {},
   "outputs": [],
   "source": [
    "def ordenar_strings(lista_strings):\n",
    "    try:\n",
    "        if not all(isinstance(item, str) for item in lista_strings):\n",
    "            raise Exception(\"Lista inválida\")\n",
    "        \n",
    "        lista_strings.sort()\n",
    "        return lista_strings\n",
    "    except Exception as e:\n",
    "        print(e)\n"
   ]
  },
  {
   "cell_type": "markdown",
   "metadata": {},
   "source": [
    "# 9. Escreva um programa que solicite ao usuário um índice e, em seguida, tente acessar um elemento em uma lista. Trate exceções caso o índice esteja fora dos limites da lista."
   ]
  },
  {
   "cell_type": "code",
   "execution_count": null,
   "metadata": {},
   "outputs": [],
   "source": [
    "def ordenar_strings(lista_strings):\n",
    "    try:\n",
    "        if not all(isinstance(item, str) for item in lista_strings):\n",
    "            raise Exception(\"Lista inválida\")\n",
    "        \n",
    "        lista_strings.sort()\n",
    "        return lista_strings\n",
    "    except Exception as e:\n",
    "        print(e)\n",
    "\n"
   ]
  },
  {
   "cell_type": "markdown",
   "metadata": {},
   "source": [
    "# 10. Peça ao usuário para digitar um número inteiro e, em seguida, tente converter esse número em uma string. Trate a exceção que pode ocorrer."
   ]
  },
  {
   "cell_type": "code",
   "execution_count": null,
   "metadata": {},
   "outputs": [],
   "source": [
    "def converter_inteiro_para_string(numero):\n",
    "    try:\n",
    "        resultado = str(numero)\n",
    "        print(f\"O número {numero} foi convertido para a string: {resultado}\")\n",
    "    except Exception as e:\n",
    "        print(f\"Erro: {e}\")\n",
    "\n"
   ]
  },
  {
   "cell_type": "markdown",
   "metadata": {},
   "source": [
    "# 11. Crie um programa que leia as configurações de um arquivo e trate exceções caso o arquivo contenha erros de formatação."
   ]
  },
  {
   "cell_type": "code",
   "execution_count": null,
   "metadata": {},
   "outputs": [],
   "source": [
    "try:\n",
    "    with open('configuracoes.txt', 'r') as arquivo:\n",
    "        # Processar as configurações do arquivo\n",
    "        pass\n",
    "except FileNotFoundError:\n",
    "    print(\"Erro: Arquivo não encontrado\")\n",
    "except IOError:\n",
    "    print(\"Erro: Problema ao ler o arquivo\")\n",
    "except Exception as e:\n",
    "    print(f\"Erro: {e}\")\n"
   ]
  },
  {
   "cell_type": "markdown",
   "metadata": {},
   "source": [
    "# 12. Peça ao usuário para digitar uma chave e, em seguida, tente acessar um valor em um dicionário. Trate exceções caso a chave não exista."
   ]
  },
  {
   "cell_type": "code",
   "execution_count": null,
   "metadata": {},
   "outputs": [],
   "source": [
    "meu_dicionario = {\"chave1\": \"valor1\", \"chave2\": \"valor2\"}\n",
    "\n",
    "try:\n",
    "    chave = input(\"Digite uma chave para acessar no dicionário: \")\n",
    "    valor = meu_dicionario[chave]\n",
    "    print(f\"Valor associado à chave {chave}: {valor}\")\n",
    "except KeyError:\n",
    "    print(\"Erro: Chave não encontrada no dicionário\")\n",
    "except Exception as e:\n",
    "    print(f\"Erro: {e}\")\n"
   ]
  },
  {
   "cell_type": "markdown",
   "metadata": {},
   "source": [
    "# 13. Escreva um programa que trate uma exceção genérica, como `Exception`, e imprima uma mensagem personalizada."
   ]
  },
  {
   "cell_type": "code",
   "execution_count": null,
   "metadata": {},
   "outputs": [],
   "source": [
    "try:\n",
    "    pass\n",
    "    # Código que pode gerar exceções\n",
    "except Exception as e:\n",
    "    print(f\"Erro genérico: {e}\")\n"
   ]
  },
  {
   "cell_type": "markdown",
   "metadata": {},
   "source": [
    "# 14. Crie um programa que peça ao usuário para digitar uma senha com pelo menos 8 caracteres. Trate exceções caso a senha seja muito curta."
   ]
  },
  {
   "cell_type": "code",
   "execution_count": null,
   "metadata": {},
   "outputs": [],
   "source": [
    "try:\n",
    "    senha = input(\"Digite uma senha com pelo menos 8 caracteres: \")\n",
    "    if len(senha) < 8:\n",
    "        raise ValueError(\"Senha muito curta\")\n",
    "except ValueError as ve:\n",
    "    print(f\"Erro: {ve}\")\n",
    "except Exception as e:\n",
    "    print(f\"Erro: {e}\")\n"
   ]
  },
  {
   "cell_type": "markdown",
   "metadata": {},
   "source": [
    "# 15. Escreva um programa que divida uma lista em partes iguais e trate exceções se o número de partes não for válido."
   ]
  },
  {
   "cell_type": "code",
   "execution_count": null,
   "metadata": {},
   "outputs": [],
   "source": [
    "minha_lista = [1, 2, 3, 4, 5, 6, 7, 8, 9]\n",
    "\n",
    "try:\n",
    "    num_partes = int(input(\"Digite o número de partes para dividir a lista: \"))\n",
    "    if len(minha_lista) % num_partes != 0:\n",
    "        raise ValueError(\"Número de partes inválido\")\n",
    "    partes = [minha_lista[i:i + len(minha_lista) // num_partes] for i in range(0, len(minha_lista), len(minha_lista) // num_partes)]\n",
    "    print(f\"Lista dividida em {num_partes} partes: {partes}\")\n",
    "except ValueError as ve:\n",
    "    print(f\"Erro: {ve}\")\n",
    "except Exception as e:\n",
    "    print(f\"Erro: {e}\")\n"
   ]
  },
  {
   "cell_type": "markdown",
   "metadata": {},
   "source": [
    "# 16. Escreva um programa que manipule múltiplas exceções em um bloco `try/except`."
   ]
  },
  {
   "cell_type": "code",
   "execution_count": null,
   "metadata": {},
   "outputs": [],
   "source": [
    "try:\n",
    "    pass\n",
    "    # Código que pode gerar múltiplas exceções\n",
    "except (Excecao1, Excecao2) as e:\n",
    "    print(f\"Erro específico: {e}\")\n",
    "except Exception as e:\n",
    "    print(f\"Erro genérico: {e}\")\n"
   ]
  },
  {
   "cell_type": "markdown",
   "metadata": {},
   "source": [
    "# 17. Escreva um programa que contenha um loop infinito e trate exceções para permitir ao usuário interrompê-lo."
   ]
  },
  {
   "cell_type": "code",
   "execution_count": null,
   "metadata": {},
   "outputs": [],
   "source": [
    "while True:\n",
    "    try:\n",
    "        pass\n",
    "        # Código dentro do loop\n",
    "    except KeyboardInterrupt:\n",
    "        print(\"Loop interrompido pelo usuário\")\n",
    "        break\n",
    "    except Exception as e:\n",
    "        print(f\"Erro: {e}\")\n"
   ]
  },
  {
   "cell_type": "markdown",
   "metadata": {},
   "source": [
    "# 18. Crie um programa que trate exceções aninhadas em um bloco `try/except`."
   ]
  },
  {
   "cell_type": "code",
   "execution_count": null,
   "metadata": {},
   "outputs": [],
   "source": [
    "try:\n",
    "    try:\n",
    "        pass\n",
    "        # Código que pode gerar exceções aninhadas\n",
    "    except ExcecaoInterna as ei:\n",
    "        print(f\"Erro interno: {ei}\")\n",
    "except ExcecaoExterna as ee:\n",
    "    print(f\"Erro externo: {ee}\")\n",
    "except Exception as e:\n",
    "    print(f\"Erro genérico: {e}\")\n"
   ]
  },
  {
   "cell_type": "markdown",
   "metadata": {},
   "source": [
    "# 19. Escreva um programa que utilize o bloco `else` para tratar exceções."
   ]
  },
  {
   "cell_type": "code",
   "execution_count": null,
   "metadata": {},
   "outputs": [],
   "source": [
    "try:\n",
    "    pass\n",
    "    # Código que pode gerar exceções\n",
    "except Exception as e:\n",
    "    print(f\"Erro: {e}\")\n",
    "else:\n",
    "    print(\"Nenhum erro ocorreu. O código no bloco 'else' é executado.\")\n"
   ]
  }
 ],
 "metadata": {
  "kernelspec": {
   "display_name": "Python 3",
   "language": "python",
   "name": "python3"
  },
  "language_info": {
   "codemirror_mode": {
    "name": "ipython",
    "version": 3
   },
   "file_extension": ".py",
   "mimetype": "text/x-python",
   "name": "python",
   "nbconvert_exporter": "python",
   "pygments_lexer": "ipython3",
   "version": "3.11.5"
  }
 },
 "nbformat": 4,
 "nbformat_minor": 2
}
