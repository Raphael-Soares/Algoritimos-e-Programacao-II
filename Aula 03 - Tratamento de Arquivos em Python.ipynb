{
 "cells": [
  {
   "cell_type": "markdown",
   "metadata": {},
   "source": [
    "1. Crie um programa que crie um arquivo chamado \"texto.txt\" e escreva nele o\n",
    "seguinte texto: \"Olá, mundo!\""
   ]
  },
  {
   "cell_type": "code",
   "execution_count": 58,
   "metadata": {},
   "outputs": [
    {
     "name": "stdout",
     "output_type": "stream",
     "text": [
      "\n",
      "Isso é incrível!\n",
      "Isso é incrível!\n"
     ]
    }
   ],
   "source": [
    "with open(\"texto.txt\", \"r\") as arquivo:\n",
    "    conteudo = arquivo.read()\n",
    "    print(conteudo)\n"
   ]
  },
  {
   "cell_type": "markdown",
   "metadata": {},
   "source": [
    "2. Crie um programa que leia o conteúdo do arquivo \"texto.txt\" criado no\n",
    "exercício anterior e o exiba no console."
   ]
  },
  {
   "cell_type": "code",
   "execution_count": 59,
   "metadata": {},
   "outputs": [
    {
     "name": "stdout",
     "output_type": "stream",
     "text": [
      "\n",
      "Isso é incrível!\n",
      "Isso é incrível!\n"
     ]
    }
   ],
   "source": [
    "with open(\"texto.txt\", \"r\") as arquivo:\n",
    "    conteudo = arquivo.read()\n",
    "    print(conteudo)\n"
   ]
  },
  {
   "cell_type": "markdown",
   "metadata": {},
   "source": [
    "3. Crie um programa que conte e exiba o número de linhas no arquivo\n",
    "\"texto.txt\"."
   ]
  },
  {
   "cell_type": "code",
   "execution_count": 60,
   "metadata": {},
   "outputs": [
    {
     "name": "stdout",
     "output_type": "stream",
     "text": [
      "Número de linhas: 3\n"
     ]
    }
   ],
   "source": [
    "with open(\"texto.txt\", \"r\") as arquivo:\n",
    "    numero_de_linhas = len(arquivo.readlines())\n",
    "    print(\"Número de linhas:\", numero_de_linhas)\n"
   ]
  },
  {
   "cell_type": "markdown",
   "metadata": {},
   "source": [
    "4. Crie um programa que copie o conteúdo do arquivo \"texto.txt\" para um novo\n",
    "arquivo chamado \"copia.txt\"."
   ]
  },
  {
   "cell_type": "code",
   "execution_count": 61,
   "metadata": {},
   "outputs": [],
   "source": [
    "with open(\"texto.txt\", \"r\") as arquivo_origem, open(\"copia.txt\", \"w\") as arquivo_destino:\n",
    "    conteudo = arquivo_origem.read()\n",
    "    arquivo_destino.write(conteudo)\n"
   ]
  },
  {
   "cell_type": "markdown",
   "metadata": {},
   "source": [
    "5. Crie um programa que leia o conteúdo dos arquivos \"texto.txt\" e\n",
    "\"copia.txt\", e escreva o conteúdo combinado em um terceiro arquivo\n",
    "chamado \"combinado.txt\"."
   ]
  },
  {
   "cell_type": "code",
   "execution_count": 62,
   "metadata": {},
   "outputs": [],
   "source": [
    "with open(\"texto.txt\", \"r\") as arquivo1, open(\"copia.txt\", \"r\") as arquivo2, open(\"combinado.txt\", \"w\") as arquivo_destino:\n",
    "    conteudo1 = arquivo1.read()\n",
    "    conteudo2 = arquivo2.read()\n",
    "    arquivo_destino.write(conteudo1 + conteudo2)\n"
   ]
  },
  {
   "cell_type": "markdown",
   "metadata": {},
   "source": [
    "6. Crie um programa que conte e exiba o número de palavras no arquivo\n",
    "\"texto.txt\"."
   ]
  },
  {
   "cell_type": "code",
   "execution_count": 63,
   "metadata": {},
   "outputs": [
    {
     "name": "stdout",
     "output_type": "stream",
     "text": [
      "Número de palavras: 6\n"
     ]
    }
   ],
   "source": [
    "with open(\"texto.txt\", \"r\") as arquivo:\n",
    "    conteudo = arquivo.read()\n",
    "    palavras = conteudo.split()\n",
    "    numero_de_palavras = len(palavras)\n",
    "    print(\"Número de palavras:\", numero_de_palavras)\n"
   ]
  },
  {
   "cell_type": "markdown",
   "metadata": {},
   "source": [
    "7. Crie um programa que leia o conteúdo do arquivo \"texto.txt\" e substitua\n",
    "todas as ocorrências da palavra \"mundo\" por \"Python\". O novo conteúdo deve ser\n",
    "escrito em um novo arquivo chamado \"modificado.txt\"."
   ]
  },
  {
   "cell_type": "code",
   "execution_count": 64,
   "metadata": {},
   "outputs": [],
   "source": [
    "with open(\"texto.txt\", \"r\") as arquivo_origem, open(\"modificado.txt\", \"w\") as arquivo_destino:\n",
    "    conteudo = arquivo_origem.read()\n",
    "    conteudo_modificado = conteudo.replace(\"mundo\", \"Python\")\n",
    "    arquivo_destino.write(conteudo_modificado)\n"
   ]
  },
  {
   "cell_type": "markdown",
   "metadata": {},
   "source": [
    "8. Crie um programa que adicione a frase \"Isso é incrível!\" ao final do arquivo\n",
    "\"texto.txt\"."
   ]
  },
  {
   "cell_type": "code",
   "execution_count": 65,
   "metadata": {},
   "outputs": [],
   "source": [
    "with open(\"texto.txt\", \"a\") as arquivo:\n",
    "    arquivo.write(\"\\nIsso é incrível!\")\n"
   ]
  },
  {
   "cell_type": "markdown",
   "metadata": {},
   "source": [
    "9. Crie um programa que leia o conteúdo do arquivo \"texto.txt\" e conte quantas\n",
    "letras (excluindo espaços) estão presentes no texto."
   ]
  },
  {
   "cell_type": "code",
   "execution_count": 66,
   "metadata": {},
   "outputs": [
    {
     "name": "stdout",
     "output_type": "stream",
     "text": [
      "Número de letras (excluindo espaços): 39\n"
     ]
    }
   ],
   "source": [
    "with open(\"texto.txt\", \"r\") as arquivo:\n",
    "    conteudo = arquivo.read()\n",
    "    letras = [letra for letra in conteudo if letra.isalpha()]\n",
    "    numero_de_letras = len(letras)\n",
    "    print(\"Número de letras (excluindo espaços):\", numero_de_letras)\n"
   ]
  },
  {
   "cell_type": "markdown",
   "metadata": {},
   "source": [
    "10. Crie um programa que leia o conteúdo do arquivo \"numeros.txt\" (contendo\n",
    "números inteiros separados por vírgula), some esses números e exiba o\n",
    "resultado."
   ]
  },
  {
   "cell_type": "code",
   "execution_count": 67,
   "metadata": {},
   "outputs": [
    {
     "name": "stdout",
     "output_type": "stream",
     "text": [
      "Soma dos números: 4950\n"
     ]
    }
   ],
   "source": [
    "with open(\"numeros.txt\", \"r\") as arquivo:\n",
    "    conteudo = arquivo.read()\n",
    "    numeros = [int(numero) for numero in conteudo.split(\"\\n\") if numero.strip()]\n",
    "    soma = sum(numeros)\n",
    "    print(\"Soma dos números:\", soma)\n"
   ]
  },
  {
   "cell_type": "markdown",
   "metadata": {},
   "source": [
    "11. Faça um programa que leia um arquivo texto contendo uma lista de endereços IP\n",
    "e gere um outro arquivo, contendo um relatório dos endereços IP válidos e\n",
    "inválidos.\n",
    "O arquivo de entrada possui o seguinte formato:\n",
    "200.135.80.9\n",
    "192.168.1.1\n",
    "8.35.67.74\n",
    "257.32.4.5\n",
    "85.345.1.2\n",
    "1.2.3.4\n",
    "9.8.234.5\n",
    "192.168.0.256\n",
    "O arquivo de saída possui o seguinte formato:\n",
    "[Endereços válidos:]\n",
    "200.135.80.9\n",
    "192.168.1.1\n",
    "8.35.67.74\n",
    "1.2.3.4\n",
    "[Endereços inválidos:]\n",
    "257.32.4.5\n",
    "85.345.1.2\n",
    "9.8.234.5\n",
    "192.168.0.256"
   ]
  },
  {
   "cell_type": "code",
   "execution_count": 68,
   "metadata": {},
   "outputs": [],
   "source": [
    "def ip_valido(ip):\n",
    "    partes = ip.split('.')\n",
    "    if len(partes) != 4:\n",
    "        return False\n",
    "    for parte in partes:\n",
    "        if not parte.isdigit() or not (0 <= int(parte) <= 255):\n",
    "            return False\n",
    "    return True\n",
    "\n",
    "with open(\"ips.txt\", \"r\") as arquivo_entrada:\n",
    "    ips = arquivo_entrada.read().splitlines()\n",
    "\n",
    "ips_validos = []\n",
    "ips_invalidos = []\n",
    "\n",
    "for ip in ips:\n",
    "    if ip_valido(ip):\n",
    "        ips_validos.append(ip)\n",
    "    else:\n",
    "        ips_invalidos.append(ip)\n",
    "\n",
    "with open(\"relatorio_ips.txt\", \"w\") as arquivo_saida:\n",
    "    arquivo_saida.write(\"[Endereços válidos:]\\n\")\n",
    "    for ip in ips_validos:\n",
    "        arquivo_saida.write(ip + \"\\n\")\n",
    "\n",
    "    arquivo_saida.write(\"[Endereços inválidos:]\\n\")\n",
    "    for ip in ips_invalidos:\n",
    "        arquivo_saida.write(ip + \"\\n\")\n"
   ]
  },
  {
   "cell_type": "markdown",
   "metadata": {},
   "source": [
    "12. A ACME Inc., uma empresa de 500 funcionários, está tendo problemas de espaço\n",
    "em disco no seu servidor de arquivos. Para tentar resolver este problema, o\n",
    "Administrador de Rede precisa saber qual o espaço ocupado pelos usuários, e\n",
    "identificar os usuários com maior espaço ocupado. Através de um programa,\n",
    "baixado da Internet, ele conseguiu gerar o seguinte arquivo, chamado\n",
    "\"usuarios.txt\":\n",
    "alexandre 456123789\n",
    "anderson 1245698456\n",
    "antonio 123456456\n",
    "carlos 91257581\n",
    "cesar 987458\n",
    "rosemary 789456125\n",
    "No arquivo acima, o nome do usuário possui 15 caracteres. A partir dele, você deve\n",
    "criar um programa que gere um relatório, chamado \"relatório.txt\", no seguinte\n",
    "formato:\n",
    "\n",
    "\n",
    "ACME Inc. Uso do espaço em disco pelos usuários\n",
    "------------------------------------------------------------------------\n",
    "Nr. Usuário Espaço utilizado % do uso\n",
    "1 alexandre 434,99 MB 16,85%\n",
    "2 anderson 1187,99 MB 46,02%\n",
    "3 antonio 117,73 MB 4,56%\n",
    "4 carlos 87,03 MB 3,37%\n",
    "5 cesar 0,94 MB 0,04%\n",
    "6 rosemary 752,88 MB 29,16%\n",
    "Espaço total ocupado: 2581,57 MB\n",
    "Espaço médio ocupado: 430,26 MB\n",
    "\n",
    "Observação: O arquivo de entrada deve ser lido uma única vez, e os dados\n",
    "armazenados em memória, caso sejam necessários, de forma a agilizar a execução do\n",
    "programa. A conversão do espaço ocupado em disco, de bytes para megabytes deverá\n",
    "ser feita através de uma função separada, que será chamada pelo programa principal.\n",
    "O cálculo do percentual de uso também deverá ser feito através de uma função, que\n",
    "será chamada pelo programa principal."
   ]
  },
  {
   "cell_type": "code",
   "execution_count": 69,
   "metadata": {},
   "outputs": [],
   "source": [
    "def bytes_para_mb(bytes):\n",
    "    return bytes / (1024 * 1024)\n",
    "\n",
    "with open(\"usuarios.txt\", \"r\") as arquivo_entrada:\n",
    "    linhas = arquivo_entrada.read().splitlines()\n",
    "\n",
    "usuarios = []\n",
    "\n",
    "for linha in linhas:\n",
    "    partes = linha.split()\n",
    "    nome = partes[0]\n",
    "    espaco_bytes = int(partes[1])\n",
    "    usuarios.append((nome, espaco_bytes))\n",
    "\n",
    "usuarios.sort(key=lambda x: x[1], reverse=True)\n",
    "\n",
    "espaco_total_bytes = sum(espaco for _, espaco in usuarios)\n",
    "espaco_total_mb = bytes_para_mb(espaco_total_bytes)\n",
    "\n",
    "with open(\"relatorio.txt\", \"w\") as arquivo_saida:\n",
    "    arquivo_saida.write(\"ACME Inc. Uso do espaço em disco pelos usuários\\n\")\n",
    "    arquivo_saida.write(\"-\" * 60 + \"\\n\")\n",
    "    arquivo_saida.write(\"Nr. Usuário Espaço utilizado % do uso\\n\")\n",
    "\n",
    "    for i, (nome, espaco_bytes) in enumerate(usuarios, start=1):\n",
    "        espaco_mb = bytes_para_mb(espaco_bytes)\n",
    "        percentual = (espaco_bytes / espaco_total_bytes) * 100\n",
    "        arquivo_saida.write(f\"{i} {nome:<15} {espaco_mb:.2f} MB {percentual:.2f}%\\n\")\n",
    "\n",
    "    arquivo_saida.write(f\"\\nEspaço total ocupado: {espaco_total_mb:.2f} MB\\n\")\n",
    "    arquivo_saida.write(f\"Espaço médio ocupado: {espaco_total_mb / len(usuarios):.2f} MB\\n\")\n"
   ]
  },
  {
   "cell_type": "markdown",
   "metadata": {},
   "source": [
    "13. Crie um programa que leia um arquivo-texto e gere um arquivo de saída\n",
    "paginado. Cada linha não deve conter mais de 76 caracteres. Cada página terá no\n",
    "máximo 60 linhas. Adicione na última linha de cada página o número da página\n",
    "atual e o nome do arquivo original."
   ]
  },
  {
   "cell_type": "code",
   "execution_count": 70,
   "metadata": {},
   "outputs": [],
   "source": [
    "def dividir_em_paginas(texto, linhas_por_pagina, caracteres_por_linha):\n",
    "    paginas = []\n",
    "    pagina_atual = []\n",
    "    linha_atual = \"\"\n",
    "    num_linhas = 0\n",
    "\n",
    "    for linha in texto.splitlines():\n",
    "        if len(linha_atual) + len(linha) + 1 <= caracteres_por_linha:\n",
    "            linha_atual += \" \" + linha if linha_atual else linha\n",
    "        else:\n",
    "            pagina_atual.append(linha_atual)\n",
    "            linha_atual = linha\n",
    "            num_linhas += 1\n",
    "\n",
    "            if num_linhas >= linhas_por_pagina:\n",
    "                paginas.append(pagina_atual)\n",
    "                pagina_atual = []\n",
    "                num_linhas = 0\n",
    "\n",
    "    if linha_atual:\n",
    "        pagina_atual.append(linha_atual)\n",
    "\n",
    "    if pagina_atual:\n",
    "        paginas.append(pagina_atual)\n",
    "\n",
    "    return paginas\n",
    "\n",
    "with open(\"entrada.txt\", \"r\") as arquivo_entrada:\n",
    "    texto = arquivo_entrada.read()\n",
    "\n",
    "paginas = dividir_em_paginas(texto, linhas_por_pagina=60, caracteres_por_linha=76)\n",
    "\n",
    "with open(\"saida_paginada.txt\", \"w\") as arquivo_saida:\n",
    "    for numero_pagina, pagina in enumerate(paginas, start=1):\n",
    "        arquivo_saida.write(f\"Página {numero_pagina}\\n\")\n",
    "        arquivo_saida.write(\"\\n\".join(pagina))\n",
    "        arquivo_saida.write(\"\\n\\nNome do arquivo original: entrada.txt\\n\")\n"
   ]
  },
  {
   "cell_type": "markdown",
   "metadata": {},
   "source": [
    "14. Crie um programa que leia um arquivo-texto e elimine os espaços repetidos entre\n",
    "as palavras e o fim das linhas. O arquivo de saída também não deve ter mais de\n",
    "uma linha em branco repetida."
   ]
  },
  {
   "cell_type": "code",
   "execution_count": 71,
   "metadata": {},
   "outputs": [],
   "source": [
    "with open(\"entrada.txt\", \"r\") as arquivo_entrada:\n",
    "    linhas = arquivo_entrada.readlines()\n",
    "\n",
    "linhas_limpas = []\n",
    "linha_vazia_anterior = False\n",
    "\n",
    "for linha in linhas:\n",
    "    linha_limpa = \" \".join(linha.split())\n",
    "    if linha_limpa == \"\" and linha_vazia_anterior:\n",
    "        continue\n",
    "    linhas_limpas.append(linha_limpa)\n",
    "    linha_vazia_anterior = (linha_limpa == \"\")\n",
    "\n",
    "with open(\"saida_limpa.txt\", \"w\") as arquivo_saida:\n",
    "    arquivo_saida.writelines(linhas_limpas)\n"
   ]
  }
 ],
 "metadata": {
  "kernelspec": {
   "display_name": "Python 3",
   "language": "python",
   "name": "python3"
  },
  "language_info": {
   "codemirror_mode": {
    "name": "ipython",
    "version": 3
   },
   "file_extension": ".py",
   "mimetype": "text/x-python",
   "name": "python",
   "nbconvert_exporter": "python",
   "pygments_lexer": "ipython3",
   "version": "3.10.12"
  },
  "orig_nbformat": 4
 },
 "nbformat": 4,
 "nbformat_minor": 2
}
