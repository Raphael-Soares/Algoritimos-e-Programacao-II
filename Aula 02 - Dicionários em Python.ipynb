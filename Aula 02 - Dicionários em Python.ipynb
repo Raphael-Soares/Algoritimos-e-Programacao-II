{
 "cells": [
  {
   "cell_type": "markdown",
   "metadata": {},
   "source": [
    "1. Crie um dicionário que contenha os nomes de 10 pessoas e suas respectivas\n",
    "idades."
   ]
  },
  {
   "cell_type": "code",
   "execution_count": 7,
   "metadata": {},
   "outputs": [],
   "source": [
    "pessoas_idades = {\n",
    "    'Raphael': 19,\n",
    "    'Maria': 18,\n",
    "    'João': 20,\n",
    "    'Pedro': 21,\n",
    "    'Ana': 19,\n",
    "    'José': 20,\n",
    "    'Paulo': 18,\n",
    "    'Lucas': 19,\n",
    "    'Mariana': 20,\n",
    "    'Juliana': 21,\n",
    "    'Fernanda': 19,\n",
    "    'Rafael': 20,\n",
    "    'Miguel': 18,\n",
    "    'Gabriel': 19,\n",
    "    'Carlos': 20,\n",
    "    'Bruno': 21,\n",
    "    'Eduardo': 19,\n",
    "    'Luiz': 20,\n",
    "    'Felipe': 18,\n",
    "    'Gustavo': 19,\n",
    "}"
   ]
  },
  {
   "cell_type": "markdown",
   "metadata": {},
   "source": [
    "2. Imprima o nome e a idade de todas as pessoas no dicionário."
   ]
  },
  {
   "cell_type": "code",
   "execution_count": 8,
   "metadata": {},
   "outputs": [
    {
     "name": "stdout",
     "output_type": "stream",
     "text": [
      "Raphael tem 19 anos de idade\n",
      "Maria tem 18 anos de idade\n",
      "João tem 20 anos de idade\n",
      "Pedro tem 21 anos de idade\n",
      "Ana tem 19 anos de idade\n",
      "José tem 20 anos de idade\n",
      "Paulo tem 18 anos de idade\n",
      "Lucas tem 19 anos de idade\n",
      "Mariana tem 20 anos de idade\n",
      "Juliana tem 21 anos de idade\n",
      "Fernanda tem 19 anos de idade\n",
      "Rafael tem 20 anos de idade\n",
      "Miguel tem 18 anos de idade\n",
      "Gabriel tem 19 anos de idade\n",
      "Carlos tem 20 anos de idade\n",
      "Bruno tem 21 anos de idade\n",
      "Eduardo tem 19 anos de idade\n",
      "Luiz tem 20 anos de idade\n",
      "Felipe tem 18 anos de idade\n",
      "Gustavo tem 19 anos de idade\n"
     ]
    }
   ],
   "source": [
    "for pessoa, idade in pessoas_idades.items(): \n",
    "    print(f'{pessoa} tem {idade} anos de idade')"
   ]
  },
  {
   "cell_type": "markdown",
   "metadata": {},
   "source": [
    "3. Crie uma função que receba um nome como parâmetro e retorne a idade da\n",
    "pessoa correspondente no dicionário."
   ]
  },
  {
   "cell_type": "code",
   "execution_count": 3,
   "metadata": {},
   "outputs": [
    {
     "name": "stdout",
     "output_type": "stream",
     "text": [
      "19\n"
     ]
    }
   ],
   "source": [
    "def retorna_idade_pessoa(nome):\n",
    "    return pessoas_idades[nome]\n",
    "\n",
    "print(retorna_idade_pessoa(\"Raphael\"))"
   ]
  },
  {
   "cell_type": "markdown",
   "metadata": {},
   "source": [
    "4. Crie uma função que receba um nome e uma nova idade como parâmetros e\n",
    "atualize a idade da pessoa correspondente no dicionário."
   ]
  },
  {
   "cell_type": "code",
   "execution_count": 4,
   "metadata": {},
   "outputs": [
    {
     "name": "stdout",
     "output_type": "stream",
     "text": [
      "20\n"
     ]
    }
   ],
   "source": [
    "def muda_idade_pessoa(pessoa, nova_idade):\n",
    "    pessoas_idades[pessoa] = nova_idade\n",
    "\n",
    "    \n",
    "muda_idade_pessoa(\"Raphael\", 20)\n",
    "\n",
    "print(pessoas_idades['Raphael'])"
   ]
  },
  {
   "cell_type": "markdown",
   "metadata": {},
   "source": [
    "5. Crie uma função que remova uma pessoa do dicionário."
   ]
  },
  {
   "cell_type": "code",
   "execution_count": 9,
   "metadata": {},
   "outputs": [
    {
     "name": "stdout",
     "output_type": "stream",
     "text": [
      "{'Raphael': 19, 'Maria': 18, 'Pedro': 21, 'Ana': 19, 'José': 20, 'Paulo': 18, 'Lucas': 19, 'Mariana': 20, 'Juliana': 21, 'Fernanda': 19, 'Rafael': 20, 'Miguel': 18, 'Gabriel': 19, 'Carlos': 20, 'Bruno': 21, 'Eduardo': 19, 'Luiz': 20, 'Felipe': 18, 'Gustavo': 19}\n"
     ]
    }
   ],
   "source": [
    "def remove_pessoa(pessoa):\n",
    "    pessoas_idades.pop(pessoa)\n",
    "\n",
    "\n",
    "\n",
    "remove_pessoa(\"João\")\n",
    "\n",
    "\n",
    "print(pessoas_idades)"
   ]
  },
  {
   "cell_type": "markdown",
   "metadata": {},
   "source": [
    "6. Crie uma função que retorne a quantidade de pessoas no dicionário."
   ]
  },
  {
   "cell_type": "code",
   "execution_count": 30,
   "metadata": {},
   "outputs": [
    {
     "name": "stdout",
     "output_type": "stream",
     "text": [
      "19\n"
     ]
    }
   ],
   "source": [
    "def retorna_qntd_pessoas():\n",
    "    qntd_pessoas = len(pessoas_idades)\n",
    "    return qntd_pessoas\n",
    "\n",
    "print(retorna_qntd_pessoas())"
   ]
  },
  {
   "cell_type": "markdown",
   "metadata": {},
   "source": [
    "7. Crie uma função que retorne a média das idades das pessoas no dicionário."
   ]
  },
  {
   "cell_type": "code",
   "execution_count": 32,
   "metadata": {},
   "outputs": [
    {
     "name": "stdout",
     "output_type": "stream",
     "text": [
      "19.37\n"
     ]
    }
   ],
   "source": [
    "def retorna_media_idade():\n",
    "    soma_idades = 0 \n",
    "\n",
    "\n",
    "\n",
    "    for idade in pessoas_idades.values():\n",
    "        soma_idades += idade\n",
    "\n",
    "    media_idades = soma_idades / retorna_qntd_pessoas()\n",
    "\n",
    "    return f\"{media_idades:.2f}\"\n",
    "\n",
    "\n",
    "print(retorna_media_idade())"
   ]
  },
  {
   "cell_type": "markdown",
   "metadata": {},
   "source": [
    "8. Crie uma função que retorne a pessoa mais velha do dicionário."
   ]
  },
  {
   "cell_type": "code",
   "execution_count": 40,
   "metadata": {},
   "outputs": [
    {
     "data": {
      "text/plain": [
       "'Pedro'"
      ]
     },
     "execution_count": 40,
     "metadata": {},
     "output_type": "execute_result"
    }
   ],
   "source": [
    "def retorna_pessoas_mais_velha():\n",
    "\n",
    "    mais_velho = 0\n",
    "    pessoa_mais_velha = {}\n",
    "    \n",
    "    for pessoa in pessoas_idades:\n",
    "        if pessoas_idades[pessoa] > mais_velho:\n",
    "            mais_velho = pessoas_idades[pessoa]\n",
    "            pessoa_mais_velha = pessoa\n",
    "\n",
    "    return pessoa_mais_velha\n",
    "\n",
    "\n",
    "\n",
    "\n",
    "retorna_pessoas_mais_velha()\n",
    "\n",
    "\n",
    "\n",
    "    "
   ]
  },
  {
   "cell_type": "markdown",
   "metadata": {},
   "source": [
    "9. Crie uma função que retorne a pessoa mais nova do dicionário."
   ]
  },
  {
   "cell_type": "code",
   "execution_count": 42,
   "metadata": {},
   "outputs": [
    {
     "data": {
      "text/plain": [
       "'Maria'"
      ]
     },
     "execution_count": 42,
     "metadata": {},
     "output_type": "execute_result"
    }
   ],
   "source": [
    "def retorna_pessoas_mais_nova():\n",
    "\n",
    "    mais_nova = 1000\n",
    "    pessoa_mais_nova = {}\n",
    "    \n",
    "    for pessoa in pessoas_idades:\n",
    "        if pessoas_idades[pessoa] < mais_nova:\n",
    "            mais_nova = pessoas_idades[pessoa]\n",
    "            pessoa_mais_nova = pessoa\n",
    "\n",
    "    return pessoa_mais_nova\n",
    "\n",
    "retorna_pessoas_mais_nova()\n",
    "    "
   ]
  },
  {
   "cell_type": "markdown",
   "metadata": {},
   "source": [
    "10. Crie uma função que retorne uma lista com as pessoas cujo nome começa com a\n",
    "letra \"J\"."
   ]
  },
  {
   "cell_type": "code",
   "execution_count": 43,
   "metadata": {},
   "outputs": [
    {
     "data": {
      "text/plain": [
       "['José', 'Juliana']"
      ]
     },
     "execution_count": 43,
     "metadata": {},
     "output_type": "execute_result"
    }
   ],
   "source": [
    "def pessoas_inicial_J():\n",
    "    pessoas_J = []\n",
    "\n",
    "    for pessoa in pessoas_idades:\n",
    "        if pessoa[0][0] == 'J':\n",
    "            pessoas_J.append(pessoa)\n",
    "\n",
    "    return pessoas_J\n",
    "\n",
    "\n",
    "pessoas_inicial_J()\n"
   ]
  }
 ],
 "metadata": {
  "kernelspec": {
   "display_name": "Python 3",
   "language": "python",
   "name": "python3"
  },
  "language_info": {
   "codemirror_mode": {
    "name": "ipython",
    "version": 3
   },
   "file_extension": ".py",
   "mimetype": "text/x-python",
   "name": "python",
   "nbconvert_exporter": "python",
   "pygments_lexer": "ipython3",
   "version": "3.10.12"
  },
  "orig_nbformat": 4
 },
 "nbformat": 4,
 "nbformat_minor": 2
}
